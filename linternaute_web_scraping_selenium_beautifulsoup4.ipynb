{
  "nbformat": 4,
  "nbformat_minor": 0,
  "metadata": {
    "colab": {
      "name": "linternaute_web_scraping_selenium_beautifulsoup4.ipynb",
      "provenance": [],
      "collapsed_sections": [],
      "include_colab_link": true
    },
    "language_info": {
      "codemirror_mode": {
        "name": "ipython",
        "version": 3
      },
      "file_extension": ".py",
      "mimetype": "text/x-python",
      "name": "python",
      "nbconvert_exporter": "python",
      "pygments_lexer": "ipython3",
      "version": "3.7.3"
    },
    "kernelspec": {
      "name": "python3",
      "display_name": "Python 3"
    },
    "accelerator": "GPU"
  },
  "cells": [
    {
      "cell_type": "markdown",
      "metadata": {
        "id": "view-in-github",
        "colab_type": "text"
      },
      "source": [
        "<a href=\"https://colab.research.google.com/github/farfaness/Scraping/blob/master/linternaute_web_scraping_selenium_beautifulsoup4.ipynb\" target=\"_parent\"><img src=\"https://colab.research.google.com/assets/colab-badge.svg\" alt=\"Open In Colab\"/></a>"
      ]
    },
    {
      "cell_type": "markdown",
      "metadata": {
        "id": "JxawNAzRIpMW",
        "colab_type": "text"
      },
      "source": [
        "# Encyclopédie des villes de France"
      ]
    },
    {
      "cell_type": "markdown",
      "metadata": {
        "id": "vvPSkUFwIpMe",
        "colab_type": "text"
      },
      "source": [
        "## Getting started"
      ]
    },
    {
      "cell_type": "code",
      "metadata": {
        "id": "f79qSbOT2RXn",
        "colab_type": "code",
        "colab": {}
      },
      "source": [
        "!pip install selenium\n",
        "!apt-get update # to update ubuntu to correctly run apt install\n",
        "!apt install chromium-chromedriver\n",
        "!cp /usr/lib/chromium-browser/chromedriver /usr/bin\n",
        "\n",
        "import sys\n",
        "sys.path.insert(0,'/usr/lib/chromium-browser/chromedriver')"
      ],
      "execution_count": 0,
      "outputs": []
    },
    {
      "cell_type": "code",
      "metadata": {
        "id": "2--onBJN4o3a",
        "colab_type": "code",
        "colab": {}
      },
      "source": [
        "from selenium import webdriver\n",
        "options = webdriver.ChromeOptions()\n",
        "options.add_argument('--headless')\n",
        "options.add_argument('--no-sandbox')\n",
        "options.add_argument('--disable-dev-shm-usage')\n",
        "from selenium.webdriver.common.keys import Keys\n",
        "from selenium.webdriver.common.action_chains import ActionChains\n",
        "from unidecode import unidecode\n",
        "from bs4 import BeautifulSoup\n",
        "from urllib.request import urlopen\n",
        "import re\n",
        "import pandas as pd\n",
        "import time"
      ],
      "execution_count": 0,
      "outputs": []
    },
    {
      "cell_type": "code",
      "metadata": {
        "id": "G5IDu01721Ch",
        "colab_type": "code",
        "colab": {}
      },
      "source": [
        "!pip install Unidecode\n",
        "!pip install beautifulsoup4"
      ],
      "execution_count": 0,
      "outputs": []
    },
    {
      "cell_type": "markdown",
      "metadata": {
        "id": "qL8FPPveRNmq",
        "colab_type": "text"
      },
      "source": [
        "## Liste des hrefs des villes de France (source: L'encyclopédie des villes sur l'internaute) with BeautifulSoup"
      ]
    },
    {
      "cell_type": "code",
      "metadata": {
        "id": "UQzP9tFQ28Sn",
        "colab_type": "code",
        "colab": {}
      },
      "source": [
        "#liste des pages de l'internaute contenant les hrefs des villes de France\n",
        "liste_pages = [(\"http://www.linternaute.com/ville/index/villes?page=\" + \"{0:03}\".format(x)) for x in list(range(1, 710))]\n",
        "\n",
        "#Loop sur ces pages pour obtenir les hrefs\n",
        "villes_FR = pd.DataFrame(columns = [\"href\"])\n",
        "\n",
        "for page in liste_pages : \n",
        "    \n",
        "    html_page = urlopen(page)\n",
        "    soup = BeautifulSoup(html_page)\n",
        "    liste_href_villes = []\n",
        "    \n",
        "    [liste_href_villes.append(\"http://www.linternaute.com\" + (li.find('a')['href'])) for ul in soup.find_all('ul', class_='bloc size1of2 odSquareList') for li in ul.find_all('li')]\n",
        "\n",
        "    # li.find('a').get_text() pour avoir le texte dans la balise (après le href) au lieu de href\n",
        "                \n",
        "    villes_FR = pd.concat([villes_FR, pd.DataFrame(liste_href_villes, columns = [\"href\"])], ignore_index=True, axis = 0)"
      ],
      "execution_count": 0,
      "outputs": []
    },
    {
      "cell_type": "code",
      "metadata": {
        "id": "Fh7nj3lv67Ey",
        "colab_type": "code",
        "colab": {}
      },
      "source": [
        "from google.colab import drive\n",
        "import shutil\n",
        "drive.mount(\"/content/drive\", force_remount=True)"
      ],
      "execution_count": 0,
      "outputs": []
    },
    {
      "cell_type": "code",
      "metadata": {
        "id": "9WFEU4fgRZTD",
        "colab_type": "code",
        "outputId": "8c175d70-6641-4751-9ecb-1d2ce776c3ca",
        "colab": {
          "base_uri": "https://localhost:8080/",
          "height": 34
        }
      },
      "source": [
        "#villes_FR.to_csv('C:\\\\Users\\\\utilisateur\\\\Documents\\\\web_scrapping\\\\villes_FR.csv')\n",
        "\n",
        "# Save the Dataframe to csv on google drive\n",
        "villes_FR.to_csv(\"/content/villes_FR.csv\")\n",
        "\n",
        "# Déplacer le fichier de content vers le dossier datasets dans My Drive\n",
        "shutil.move(\"/content/villes_FR.csv\", \"/content/drive/My Drive/Datasets/villes_FR.csv\") "
      ],
      "execution_count": 0,
      "outputs": [
        {
          "output_type": "execute_result",
          "data": {
            "text/plain": [
              "'/content/drive/My Drive/Datasets/villes_FR.csv'"
            ]
          },
          "metadata": {
            "tags": []
          },
          "execution_count": 136
        }
      ]
    },
    {
      "cell_type": "markdown",
      "metadata": {
        "id": "I36zD0ZlRbuk",
        "colab_type": "text"
      },
      "source": [
        "## Scrap infos on French cities"
      ]
    },
    {
      "cell_type": "code",
      "metadata": {
        "id": "SNZuADQs18SE",
        "colab_type": "code",
        "colab": {}
      },
      "source": [
        "#Create 355 dataframes of cities list\n",
        "i = 0\n",
        "nb_cities_per_threading = 100\n",
        "start = 0\n",
        "end = nb_cities_per_threading\n",
        "\n",
        "while i < (len(villes_FR)//nb_cities_per_threading) : \n",
        "    globals()[('villes_FR' + str(i))] = villes_FR.iloc[start:end, :]\n",
        "    start += nb_cities_per_threading\n",
        "    end += nb_cities_per_threading\n",
        "    i +=1\n",
        "    \n",
        "#For the last cut \n",
        "end = start + (len(villes_FR)%nb_cities_per_threading)\n",
        "globals()[('villes_FR' + str(i))] = villes_FR.iloc[start:end, :]"
      ],
      "execution_count": 0,
      "outputs": []
    },
    {
      "cell_type": "code",
      "metadata": {
        "id": "avaiouSI2FAD",
        "colab_type": "code",
        "colab": {}
      },
      "source": [
        "#Create class to use multithreading to scrap population for each french city\n",
        "from threading import Thread, RLock\n",
        "verrou = RLock()\n",
        "\n",
        "class Scrapeur(Thread):\n",
        "    \"\"\"Thread chargé de scraper la population de chaque villes\"\"\"\n",
        "\n",
        "    def __init__(self, villes_FR):\n",
        "        Thread.__init__(self)\n",
        "        self.villes_FR = villes_FR\n",
        "        \n",
        "    def run(self):\n",
        "        \"\"\"Code à exécuter pendant l'exécution du thread.\"\"\"\n",
        "        globals()[('pop_villes' + str(i))] = pd.DataFrame(columns = [\"href\", \"pop\"])\n",
        "        browser = webdriver.Chrome('chromedriver', options=options)\n",
        "        \n",
        "        for globals()[('city' + str(i))] in self.villes_FR['href']:\n",
        "            browser.get(globals()[('city' + str(i))])\n",
        "\n",
        "            #Get demographic informations\n",
        "            # Demographic infos on the front page\n",
        "            liste_pop = browser.find_elements_by_class_name('odTable.odTableAuto')\n",
        "            time.sleep(1)\n",
        "            liste_pop_str = [liste_pop.text for liste_pop in liste_pop]\n",
        "            globals()[('nb_hab' + str(i))] = re.findall('.+\\) (\\d*\\s*\\d*\\s*\\d*) hab\\. .+', liste_pop_str[1]) #find nb pop\n",
        "            \n",
        "            #Store nb pop in dataframe pop_villes_i\n",
        "            globals()[('pop_villes' + str(i))] = globals()[('pop_villes' + str(i))].append({'href' : globals()[('city' + str(i))], 'pop': globals()[('nb_hab' + str(i))]}, ignore_index=True)\n",
        "            \n",
        "        browser.quit()\n",
        "        \n",
        "        return globals()[('pop_villes' + str(i))]"
      ],
      "execution_count": 0,
      "outputs": []
    },
    {
      "cell_type": "code",
      "metadata": {
        "id": "iu57wDIZTn72",
        "colab_type": "code",
        "colab": {}
      },
      "source": [
        "# To initiate, run only once\n",
        "all_pop_villes = pd.DataFrame(columns = [\"href\", \"pop\"])\n",
        "\n",
        "iterations = 0 #start for iterations\n",
        "depart = 0\n",
        "nb_threads = 10 #nbr threads per iteration\n",
        "fin = nb_threads"
      ],
      "execution_count": 0,
      "outputs": []
    },
    {
      "cell_type": "code",
      "metadata": {
        "id": "kFqjGq0zcigb",
        "colab_type": "code",
        "colab": {}
      },
      "source": [
        "#if you already registred data in the csv all_pop_villes use that instead\n",
        "all_pop_villes = pd.read_csv(\"/content/drive/My Drive/Datasets/villes_pop_FR.csv\")\n",
        "\n",
        "nbr_iterations_already_run = 2 #nbr of iterations already run successfuly\n",
        "\n",
        "iterations = nbr_iterations_already_run + 1 #new_start for iterations\n",
        "nb_threads = 10 #nbr threads per iteration\n",
        "depart = nb_threads * nbr_iterations_already_run\n",
        "fin = depart + nb_threads"
      ],
      "execution_count": 0,
      "outputs": []
    },
    {
      "cell_type": "code",
      "metadata": {
        "id": "sC8-4JQQ3I1O",
        "colab_type": "code",
        "colab": {}
      },
      "source": [
        "# Run multithreadings\n",
        "\n",
        "end_iterations_to_run = 2 # need to go to 23; Pour un total de 355 datasets\n",
        "\n",
        "while iterations < end_iterations_to_run : # (355//nb_threads): # soit 23; Pour un total de 355 datasets, fait plus bas une 24ème iteration avec 5 threads \n",
        "    nb_villes_FR_datasets = list(range(depart, fin))\n",
        "    \n",
        "    if iterations < (355//nb_threads) : \n",
        "        #Lancer x threads à la fois\n",
        "        for i in nb_villes_FR_datasets:\n",
        "            #Creation du thread\n",
        "            time.sleep(1)\n",
        "            globals()[('thread_' + str(i))] = Scrapeur(globals()[('villes_FR' + str(i))])   \n",
        "            time.sleep(2)\n",
        "            # Lancement du thread\n",
        "            globals()[('thread_' + str(i))].start()\n",
        "            print('Thread {} iniated !! hihi' .format(i))\n",
        "            \n",
        "            \n",
        "        for i in nb_villes_FR_datasets:\n",
        "            #Cloture des x threads\n",
        "            globals()[('thread_' + str(i))].join()\n",
        "        \n",
        "        for i in nb_villes_FR_datasets:\n",
        "            #Update the dataframe with the threads scrap infos\n",
        "            time.sleep(1)\n",
        "            all_pop_villes = pd.concat([all_pop_villes, globals()[('pop_villes' + str(i))]], axis = 0)\n",
        "            del globals()[('pop_villes' + str(i))]\n",
        "            print('Thread {} completed !! :D' .format(i))\n",
        "    \n",
        "    elif iterations == (355//nb_threads) :\n",
        "        nb_threads = 355 % nb_threads\n",
        "        fin = depart + nb_threads\n",
        "        #Lancer x threads à la fois\n",
        "        for i in nb_villes_FR_datasets:\n",
        "            #Creation du thread\n",
        "            time.sleep(1)\n",
        "            globals()[('thread_' + str(i))] = Scrapeur(globals()[('villes_FR' + str(i))])  \n",
        "            time.sleep(2)\n",
        "            # Lancement du thread\n",
        "            globals()[('thread_' + str(i))].start()\n",
        "            print('Thread {} iniated !! hihi' .format(i))\n",
        "            \n",
        "        \n",
        "        for i in nb_villes_FR_datasets:\n",
        "            #Cloture des x threads\n",
        "            globals()[('thread_' + str(i))].join()\n",
        "        \n",
        "        for i in nb_villes_FR_datasets:\n",
        "            #Update the dataframe with the threads scrap infos\n",
        "            time.sleep(1)\n",
        "            all_pop_villes = pd.concat([all_pop_villes, globals()[('pop_villes' + str(i))]], axis = 0)\n",
        "            del globals()[('pop_villes' + str(i))]\n",
        "            print('Thread {} completed !! :D' .format(i))\n",
        "            \n",
        "    depart = fin\n",
        "    fin += nb_threads \n",
        "    iterations +=1\n"
      ],
      "execution_count": 0,
      "outputs": []
    },
    {
      "cell_type": "code",
      "metadata": {
        "id": "WR1ezXF24-5v",
        "colab_type": "code",
        "outputId": "00a59d95-6345-4796-f392-7721319fc459",
        "colab": {
          "base_uri": "https://localhost:8080/",
          "height": 221
        }
      },
      "source": [
        "# Sanity check\n",
        "print(len(all_pop_villes)) # 20 threads de 100\n",
        "all_pop_villes.head()"
      ],
      "execution_count": 0,
      "outputs": [
        {
          "output_type": "stream",
          "text": [
            "1839\n"
          ],
          "name": "stdout"
        },
        {
          "output_type": "execute_result",
          "data": {
            "text/html": [
              "<div>\n",
              "<style scoped>\n",
              "    .dataframe tbody tr th:only-of-type {\n",
              "        vertical-align: middle;\n",
              "    }\n",
              "\n",
              "    .dataframe tbody tr th {\n",
              "        vertical-align: top;\n",
              "    }\n",
              "\n",
              "    .dataframe thead th {\n",
              "        text-align: right;\n",
              "    }\n",
              "</style>\n",
              "<table border=\"1\" class=\"dataframe\">\n",
              "  <thead>\n",
              "    <tr style=\"text-align: right;\">\n",
              "      <th></th>\n",
              "      <th>href</th>\n",
              "      <th>pop</th>\n",
              "    </tr>\n",
              "  </thead>\n",
              "  <tbody>\n",
              "    <tr>\n",
              "      <th>0</th>\n",
              "      <td>http://www.linternaute.com/ville/archigny/vill...</td>\n",
              "      <td>[173]</td>\n",
              "    </tr>\n",
              "    <tr>\n",
              "      <th>1</th>\n",
              "      <td>http://www.linternaute.com/ville/abainville/vi...</td>\n",
              "      <td>[213]</td>\n",
              "    </tr>\n",
              "    <tr>\n",
              "      <th>2</th>\n",
              "      <td>http://www.linternaute.com/ville/agassac/ville...</td>\n",
              "      <td>[3 021]</td>\n",
              "    </tr>\n",
              "    <tr>\n",
              "      <th>3</th>\n",
              "      <td>http://www.linternaute.com/ville/aimargues/vil...</td>\n",
              "      <td>[114]</td>\n",
              "    </tr>\n",
              "    <tr>\n",
              "      <th>4</th>\n",
              "      <td>http://www.linternaute.com/ville/agde/ville-34003</td>\n",
              "      <td>[5 413]</td>\n",
              "    </tr>\n",
              "  </tbody>\n",
              "</table>\n",
              "</div>"
            ],
            "text/plain": [
              "                                                href      pop\n",
              "0  http://www.linternaute.com/ville/archigny/vill...    [173]\n",
              "1  http://www.linternaute.com/ville/abainville/vi...    [213]\n",
              "2  http://www.linternaute.com/ville/agassac/ville...  [3 021]\n",
              "3  http://www.linternaute.com/ville/aimargues/vil...    [114]\n",
              "4  http://www.linternaute.com/ville/agde/ville-34003  [5 413]"
            ]
          },
          "metadata": {
            "tags": []
          },
          "execution_count": 34
        }
      ]
    },
    {
      "cell_type": "code",
      "metadata": {
        "id": "WrRYYRSa3LtG",
        "colab_type": "code",
        "colab": {}
      },
      "source": [
        "# Mount to save to google drive\n",
        "drive.mount(\"/content/drive\", force_remount=True)"
      ],
      "execution_count": 0,
      "outputs": []
    },
    {
      "cell_type": "code",
      "metadata": {
        "id": "EyerEl_9vDW6",
        "colab_type": "code",
        "outputId": "f2c8be3f-6a30-4cc1-826c-976acdbae2ff",
        "colab": {
          "base_uri": "https://localhost:8080/",
          "height": 34
        }
      },
      "source": [
        "#Save the Dataframe to csv on google drive\n",
        "all_pop_villes.to_csv(\"/content/villes_pop_FR.csv\")\n",
        "\n",
        "# Déplacer le fichier de content vers le dossier datasets dans My Drive\n",
        "shutil.move(\"/content/villes_pop_FR.csv\", \"/content/drive/My Drive/Datasets/villes_pop_FR.csv\") "
      ],
      "execution_count": 0,
      "outputs": [
        {
          "output_type": "execute_result",
          "data": {
            "text/plain": [
              "'/content/drive/My Drive/Datasets/villes_pop_FR.csv'"
            ]
          },
          "metadata": {
            "tags": []
          },
          "execution_count": 36
        }
      ]
    },
    {
      "cell_type": "markdown",
      "metadata": {
        "id": "Q4BQm2IIRmzL",
        "colab_type": "text"
      },
      "source": [
        "# Filter : Keep French cities with more than 50 000 hab."
      ]
    },
    {
      "cell_type": "code",
      "metadata": {
        "id": "JB8re8wp3a1A",
        "colab_type": "code",
        "colab": {}
      },
      "source": [
        "#Read the dataframe in memory\n",
        "data = pd.read_csv(\"/content/drive/My Drive/Datasets/villes_pop_FR.csv\")"
      ],
      "execution_count": 0,
      "outputs": []
    },
    {
      "cell_type": "code",
      "metadata": {
        "id": "RSGVcKMik4Ln",
        "colab_type": "code",
        "outputId": "4d635464-11b1-4a02-d7a6-7f2dd9481aac",
        "colab": {
          "base_uri": "https://localhost:8080/",
          "height": 221
        }
      },
      "source": [
        "print(len(data))\n",
        "data.drop(columns = 'Unnamed: 0', inplace = True)\n",
        "data.head()"
      ],
      "execution_count": 0,
      "outputs": [
        {
          "output_type": "stream",
          "text": [
            "1839\n"
          ],
          "name": "stdout"
        },
        {
          "output_type": "execute_result",
          "data": {
            "text/html": [
              "<div>\n",
              "<style scoped>\n",
              "    .dataframe tbody tr th:only-of-type {\n",
              "        vertical-align: middle;\n",
              "    }\n",
              "\n",
              "    .dataframe tbody tr th {\n",
              "        vertical-align: top;\n",
              "    }\n",
              "\n",
              "    .dataframe thead th {\n",
              "        text-align: right;\n",
              "    }\n",
              "</style>\n",
              "<table border=\"1\" class=\"dataframe\">\n",
              "  <thead>\n",
              "    <tr style=\"text-align: right;\">\n",
              "      <th></th>\n",
              "      <th>href</th>\n",
              "      <th>pop</th>\n",
              "    </tr>\n",
              "  </thead>\n",
              "  <tbody>\n",
              "    <tr>\n",
              "      <th>0</th>\n",
              "      <td>http://www.linternaute.com/ville/archigny/vill...</td>\n",
              "      <td>['173']</td>\n",
              "    </tr>\n",
              "    <tr>\n",
              "      <th>1</th>\n",
              "      <td>http://www.linternaute.com/ville/abainville/vi...</td>\n",
              "      <td>['213']</td>\n",
              "    </tr>\n",
              "    <tr>\n",
              "      <th>2</th>\n",
              "      <td>http://www.linternaute.com/ville/agassac/ville...</td>\n",
              "      <td>['3 021']</td>\n",
              "    </tr>\n",
              "    <tr>\n",
              "      <th>3</th>\n",
              "      <td>http://www.linternaute.com/ville/aimargues/vil...</td>\n",
              "      <td>['114']</td>\n",
              "    </tr>\n",
              "    <tr>\n",
              "      <th>4</th>\n",
              "      <td>http://www.linternaute.com/ville/agde/ville-34003</td>\n",
              "      <td>['5 413']</td>\n",
              "    </tr>\n",
              "  </tbody>\n",
              "</table>\n",
              "</div>"
            ],
            "text/plain": [
              "                                                href        pop\n",
              "0  http://www.linternaute.com/ville/archigny/vill...    ['173']\n",
              "1  http://www.linternaute.com/ville/abainville/vi...    ['213']\n",
              "2  http://www.linternaute.com/ville/agassac/ville...  ['3 021']\n",
              "3  http://www.linternaute.com/ville/aimargues/vil...    ['114']\n",
              "4  http://www.linternaute.com/ville/agde/ville-34003  ['5 413']"
            ]
          },
          "metadata": {
            "tags": []
          },
          "execution_count": 125
        }
      ]
    },
    {
      "cell_type": "code",
      "metadata": {
        "id": "-dqBB4H55BNi",
        "colab_type": "code",
        "outputId": "424aabfa-4512-4ed1-8b8b-3b78fc5c4381",
        "colab": {
          "base_uri": "https://localhost:8080/",
          "height": 34
        }
      },
      "source": [
        "# Delete the lignes where pop wasn't write down\n",
        "for index in data.index.values :\n",
        "  if data[\"pop\"][index] == '[]' : data.drop([index], inplace=True)\n",
        "    \n",
        "print(len(data))"
      ],
      "execution_count": 0,
      "outputs": [
        {
          "output_type": "stream",
          "text": [
            "1799\n"
          ],
          "name": "stdout"
        }
      ]
    },
    {
      "cell_type": "code",
      "metadata": {
        "id": "x3i27Amo23xk",
        "colab_type": "code",
        "colab": {}
      },
      "source": [
        "# Use ville_FR.href to get the list of cities not yet scraped\n",
        "ville_FR = pd.read_csv(\"/content/drive/My Drive/Datasets/villes_FR.csv\")\n",
        "#not_scraped = villes_FR.loc[villes_FR[\"href\"] in new_data['href']]"
      ],
      "execution_count": 0,
      "outputs": []
    },
    {
      "cell_type": "code",
      "metadata": {
        "id": "iB4gV9gr0In6",
        "colab_type": "code",
        "colab": {}
      },
      "source": [
        "# Transform pop into int\n",
        "new_data = data.copy()\n",
        "for index in data.index.values:\n",
        "  new_data['pop'][index] = (int(''.join(c for c in data['pop'][index] if c.isdigit())))"
      ],
      "execution_count": 0,
      "outputs": []
    },
    {
      "cell_type": "code",
      "metadata": {
        "id": "v84NuQnp3K8k",
        "colab_type": "code",
        "colab": {}
      },
      "source": [
        "# Filter cities with more than 50 000 habitants\n",
        "big_cities = new_data.loc[new_data['pop']>= 50000 ]"
      ],
      "execution_count": 0,
      "outputs": []
    },
    {
      "cell_type": "code",
      "metadata": {
        "id": "QEJleVpjk9oY",
        "colab_type": "code",
        "outputId": "36c5b140-26c9-4253-8102-6a696cae1ed8",
        "colab": {
          "base_uri": "https://localhost:8080/",
          "height": 34
        }
      },
      "source": [
        "print(len(big_cities))"
      ],
      "execution_count": 0,
      "outputs": [
        {
          "output_type": "stream",
          "text": [
            "15\n"
          ],
          "name": "stdout"
        }
      ]
    },
    {
      "cell_type": "code",
      "metadata": {
        "id": "1Sxus9Va6hw4",
        "colab_type": "code",
        "outputId": "38f0fbef-653d-4cc9-d655-dc7532f9e3aa",
        "colab": {
          "base_uri": "https://localhost:8080/",
          "height": 514
        }
      },
      "source": [
        "big_cities.head(15)"
      ],
      "execution_count": 0,
      "outputs": [
        {
          "output_type": "execute_result",
          "data": {
            "text/html": [
              "<div>\n",
              "<style scoped>\n",
              "    .dataframe tbody tr th:only-of-type {\n",
              "        vertical-align: middle;\n",
              "    }\n",
              "\n",
              "    .dataframe tbody tr th {\n",
              "        vertical-align: top;\n",
              "    }\n",
              "\n",
              "    .dataframe thead th {\n",
              "        text-align: right;\n",
              "    }\n",
              "</style>\n",
              "<table border=\"1\" class=\"dataframe\">\n",
              "  <thead>\n",
              "    <tr style=\"text-align: right;\">\n",
              "      <th></th>\n",
              "      <th>href</th>\n",
              "      <th>pop</th>\n",
              "    </tr>\n",
              "  </thead>\n",
              "  <tbody>\n",
              "    <tr>\n",
              "      <th>45</th>\n",
              "      <td>http://www.linternaute.com/ville/arcins/ville-...</td>\n",
              "      <td>125694</td>\n",
              "    </tr>\n",
              "    <tr>\n",
              "      <th>199</th>\n",
              "      <td>http://www.linternaute.com/ville/agny/ville-62013</td>\n",
              "      <td>132874</td>\n",
              "    </tr>\n",
              "    <tr>\n",
              "      <th>333</th>\n",
              "      <td>http://www.linternaute.com/ville/anould/ville-...</td>\n",
              "      <td>151520</td>\n",
              "    </tr>\n",
              "    <tr>\n",
              "      <th>336</th>\n",
              "      <td>http://www.linternaute.com/ville/ahun/ville-23001</td>\n",
              "      <td>142668</td>\n",
              "    </tr>\n",
              "    <tr>\n",
              "      <th>480</th>\n",
              "      <td>http://www.linternaute.com/ville/arganchy/vill...</td>\n",
              "      <td>68462</td>\n",
              "    </tr>\n",
              "    <tr>\n",
              "      <th>571</th>\n",
              "      <td>http://www.linternaute.com/ville/alba-la-romai...</td>\n",
              "      <td>74875</td>\n",
              "    </tr>\n",
              "    <tr>\n",
              "      <th>655</th>\n",
              "      <td>http://www.linternaute.com/ville/angoume/ville...</td>\n",
              "      <td>110388</td>\n",
              "    </tr>\n",
              "    <tr>\n",
              "      <th>704</th>\n",
              "      <td>http://www.linternaute.com/ville/argenton-sur-...</td>\n",
              "      <td>61711</td>\n",
              "    </tr>\n",
              "    <tr>\n",
              "      <th>840</th>\n",
              "      <td>http://www.linternaute.com/ville/aix-en-proven...</td>\n",
              "      <td>142668</td>\n",
              "    </tr>\n",
              "    <tr>\n",
              "      <th>856</th>\n",
              "      <td>http://www.linternaute.com/ville/ajaccio/ville...</td>\n",
              "      <td>68462</td>\n",
              "    </tr>\n",
              "    <tr>\n",
              "      <th>1056</th>\n",
              "      <td>http://www.linternaute.com/ville/aumessas/vill...</td>\n",
              "      <td>52886</td>\n",
              "    </tr>\n",
              "    <tr>\n",
              "      <th>1205</th>\n",
              "      <td>http://www.linternaute.com/ville/avensac/ville...</td>\n",
              "      <td>86512</td>\n",
              "    </tr>\n",
              "    <tr>\n",
              "      <th>1392</th>\n",
              "      <td>http://www.linternaute.com/ville/baignes/ville...</td>\n",
              "      <td>83782</td>\n",
              "    </tr>\n",
              "    <tr>\n",
              "      <th>1481</th>\n",
              "      <td>http://www.linternaute.com/ville/auve/ville-51027</td>\n",
              "      <td>92130</td>\n",
              "    </tr>\n",
              "    <tr>\n",
              "      <th>1747</th>\n",
              "      <td>http://www.linternaute.com/ville/auzances/vill...</td>\n",
              "      <td>83584</td>\n",
              "    </tr>\n",
              "  </tbody>\n",
              "</table>\n",
              "</div>"
            ],
            "text/plain": [
              "                                                   href     pop\n",
              "45    http://www.linternaute.com/ville/arcins/ville-...  125694\n",
              "199   http://www.linternaute.com/ville/agny/ville-62013  132874\n",
              "333   http://www.linternaute.com/ville/anould/ville-...  151520\n",
              "336   http://www.linternaute.com/ville/ahun/ville-23001  142668\n",
              "480   http://www.linternaute.com/ville/arganchy/vill...   68462\n",
              "571   http://www.linternaute.com/ville/alba-la-romai...   74875\n",
              "655   http://www.linternaute.com/ville/angoume/ville...  110388\n",
              "704   http://www.linternaute.com/ville/argenton-sur-...   61711\n",
              "840   http://www.linternaute.com/ville/aix-en-proven...  142668\n",
              "856   http://www.linternaute.com/ville/ajaccio/ville...   68462\n",
              "1056  http://www.linternaute.com/ville/aumessas/vill...   52886\n",
              "1205  http://www.linternaute.com/ville/avensac/ville...   86512\n",
              "1392  http://www.linternaute.com/ville/baignes/ville...   83782\n",
              "1481  http://www.linternaute.com/ville/auve/ville-51027   92130\n",
              "1747  http://www.linternaute.com/ville/auzances/vill...   83584"
            ]
          },
          "metadata": {
            "tags": []
          },
          "execution_count": 135
        }
      ]
    }
  ]
}