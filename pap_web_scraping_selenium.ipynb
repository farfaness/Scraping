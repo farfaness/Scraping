{
  "nbformat": 4,
  "nbformat_minor": 0,
  "metadata": {
    "kernelspec": {
      "display_name": "Python 3",
      "language": "python",
      "name": "python3"
    },
    "language_info": {
      "codemirror_mode": {
        "name": "ipython",
        "version": 3
      },
      "file_extension": ".py",
      "mimetype": "text/x-python",
      "name": "python",
      "nbconvert_exporter": "python",
      "pygments_lexer": "ipython3",
      "version": "3.7.3"
    },
    "colab": {
      "name": "pap_web_scraping_selenium.ipynb",
      "provenance": [],
      "collapsed_sections": [],
      "include_colab_link": true
    }
  },
  "cells": [
    {
      "cell_type": "markdown",
      "metadata": {
        "id": "view-in-github",
        "colab_type": "text"
      },
      "source": [
        "<a href=\"https://colab.research.google.com/github/farfaness/Scraping/blob/master/pap_web_scraping_selenium.ipynb\" target=\"_parent\"><img src=\"https://colab.research.google.com/assets/colab-badge.svg\" alt=\"Open In Colab\"/></a>"
      ]
    },
    {
      "cell_type": "markdown",
      "metadata": {
        "id": "5f-jk1uMT4Nd",
        "colab_type": "text"
      },
      "source": [
        "# Selenium : Mets ton navigateur en mode automatique"
      ]
    },
    {
      "cell_type": "markdown",
      "metadata": {
        "id": "IfQU6Ez0T4Nf",
        "colab_type": "text"
      },
      "source": [
        "\n",
        "![alt text](https://etcoe.in/news-blog/wp-content/uploads/2018/03/selenium.jpg?w=1200)"
      ]
    },
    {
      "cell_type": "markdown",
      "metadata": {
        "id": "e1aZnJX5T4Ng",
        "colab_type": "text"
      },
      "source": [
        "La doc : https://selenium-python.readthedocs.io/navigating.html<br>\n",
        "cheatsheet : http://allselenium.info/python-selenium-commands-cheat-sheet-frequently-used/<br>\n",
        "moins complète mais plus propre : http://akul.me/blog/2016/selenium-cheatsheet/ <br>"
      ]
    },
    {
      "cell_type": "markdown",
      "metadata": {
        "id": "h-3fa71kT4Nh",
        "colab_type": "text"
      },
      "source": [
        "## Installation "
      ]
    },
    {
      "cell_type": "markdown",
      "metadata": {
        "id": "TpKMx5ZET4Ni",
        "colab_type": "text"
      },
      "source": [
        "Avec Anaconda : ouvrir anaconda prompt et executer : \"conda install -c conda-forge selenium\" \n",
        "Avec juste python, télécharger geckodrive, le mettre dans le path ou au même endroit que votre jupyter notebook\n",
        "https://github.com/mozilla/geckodriver/releases"
      ]
    },
    {
      "cell_type": "code",
      "metadata": {
        "id": "ebRJNl4pT4Nj",
        "colab_type": "code",
        "colab": {}
      },
      "source": [
        "from selenium import webdriver\n",
        "from selenium.webdriver.common.keys import Keys\n",
        "from selenium.webdriver.common.action_chains import ActionChains\n",
        "\n",
        "\n",
        "#browser = webdriver.Firefox()\n",
        "# browser = webdriver.Firefox(executable_path='C:/path/to/geckodriver.exe') au cas où geckdriver.exe n'est pas dans le path ni au même endroit\n",
        "browser = webdriver.Chrome()\n",
        "browser.get('https://www.pap.fr/')"
      ],
      "execution_count": 0,
      "outputs": []
    },
    {
      "cell_type": "code",
      "metadata": {
        "id": "ezNhxQOeT4Nm",
        "colab_type": "code",
        "colab": {}
      },
      "source": [
        "browser.maximize_window()"
      ],
      "execution_count": 0,
      "outputs": []
    },
    {
      "cell_type": "code",
      "metadata": {
        "id": "K-lkVIcnT4No",
        "colab_type": "code",
        "colab": {}
      },
      "source": [
        "#Ouvre menu défilant (Pour choisir location d'appart)\n",
        "button_choix = browser.find_element_by_class_name(\"CaptionCont.SelectBox\") \n",
        "button_choix.click()"
      ],
      "execution_count": 0,
      "outputs": []
    },
    {
      "cell_type": "code",
      "metadata": {
        "id": "xmjstpufT4Nq",
        "colab_type": "code",
        "colab": {}
      },
      "source": [
        "#Clique sur location dans le menu défilant\n",
        "button_choix_options = browser.find_elements_by_class_name('opt')\n",
        "button_choix_options[1].click()"
      ],
      "execution_count": 0,
      "outputs": []
    },
    {
      "cell_type": "code",
      "metadata": {
        "id": "wT2-aOATT4Nt",
        "colab_type": "code",
        "colab": {}
      },
      "source": [
        "# Tape paris dans barre de recherche \n",
        "recherche = browser.find_element_by_id('token-input-geo_objets_ids') #barre recherche\n",
        "recherche.send_keys(\"paris(75)\") #rentre paris(75) dans la barre de recherche"
      ],
      "execution_count": 0,
      "outputs": []
    },
    {
      "cell_type": "code",
      "metadata": {
        "id": "HPBnnjncT4Nu",
        "colab_type": "code",
        "colab": {}
      },
      "source": [
        "#Clique sur okay (pour valider le paris(75) dans menu défilant de la barre de recherche)\n",
        "actions = ActionChains(browser)\n",
        "actions.send_keys(Keys.ENTER).perform() "
      ],
      "execution_count": 0,
      "outputs": []
    },
    {
      "cell_type": "code",
      "metadata": {
        "id": "v_zauYRpT4Nw",
        "colab_type": "code",
        "colab": {}
      },
      "source": [
        "#lance la recherche en cliquant sur bouton recherche\n",
        "button_recherche = browser.find_element_by_class_name(\"btn.btn-full-width\")\n",
        "button_recherche.click() "
      ],
      "execution_count": 0,
      "outputs": []
    },
    {
      "cell_type": "code",
      "metadata": {
        "id": "5Me9_GVPT4Ny",
        "colab_type": "code",
        "colab": {}
      },
      "source": [
        "#Prendre appartements en type de bien\n",
        "button_choix = browser.find_element_by_class_name(\"CaptionCont.SelectBox\") #menu déroullant\n",
        "button_choix.click()\n",
        "\n",
        "button_choix_options = browser.find_elements_by_class_name('opt') #choix de appartements\n",
        "button_choix_options[1].click()"
      ],
      "execution_count": 0,
      "outputs": []
    },
    {
      "cell_type": "code",
      "metadata": {
        "id": "D-HQl85tT4N0",
        "colab_type": "code",
        "colab": {}
      },
      "source": [
        "# Actualiser \n",
        "button_actualiser = browser.find_element_by_class_name('form-group') #cliquer sur actualiser \n",
        "button_actualiser.click()"
      ],
      "execution_count": 0,
      "outputs": []
    },
    {
      "cell_type": "code",
      "metadata": {
        "id": "QwdhLIn1T4N2",
        "colab_type": "code",
        "colab": {}
      },
      "source": [
        "# choisir appartements entre 13 et 35 m2\n",
        "surface_min = browser.find_element_by_id(\"surface_min\") # surface min\n",
        "surface_min.send_keys(\"13\") \n",
        "\n",
        "surface_max = browser.find_element_by_id(\"surface_max\") # surface max\n",
        "surface_max.send_keys(\"35\") "
      ],
      "execution_count": 0,
      "outputs": []
    },
    {
      "cell_type": "code",
      "metadata": {
        "id": "PG17DqSBT4N5",
        "colab_type": "code",
        "colab": {}
      },
      "source": [
        "# choisir appartements entre 500 et 650 euros\n",
        "prix_min = browser.find_element_by_id(\"prix_min\") # prix min\n",
        "prix_min.send_keys(\"500\") \n",
        "\n",
        "prix_max = browser.find_element_by_id(\"prix_max\") # prix max\n",
        "prix_max.send_keys(\"650\") "
      ],
      "execution_count": 0,
      "outputs": []
    },
    {
      "cell_type": "code",
      "metadata": {
        "id": "YxY0bh2sT4N6",
        "colab_type": "code",
        "colab": {}
      },
      "source": [
        "# Actualiser \n",
        "button_actualiser = browser.find_element_by_class_name('form-group') #cliquer sur actualiser \n",
        "button_actualiser.click()"
      ],
      "execution_count": 0,
      "outputs": []
    },
    {
      "cell_type": "code",
      "metadata": {
        "id": "vG7xByr9T4N8",
        "colab_type": "code",
        "colab": {}
      },
      "source": [
        "# Actualiser (à cause du menu déroullant il faut actualiser 2 fois)\n",
        "button_actualiser = browser.find_element_by_class_name('form-group') #cliquer sur actualiser \n",
        "button_actualiser.click()"
      ],
      "execution_count": 0,
      "outputs": []
    },
    {
      "cell_type": "code",
      "metadata": {
        "id": "Au6-zySzT4N9",
        "colab_type": "code",
        "colab": {}
      },
      "source": [
        "from selenium.common.exceptions import NoSuchElementException, ElementClickInterceptedException\n",
        "import pandas as pd\n",
        "import time\n",
        "\n",
        "def check_exists_by_class_name(class_name):\n",
        "    try:\n",
        "        browser.find_element_by_class_name(class_name)\n",
        "    except NoSuchElementException:\n",
        "        return False\n",
        "    return True\n",
        "\n",
        "# Dataframe à updater avec dico infos appart\n",
        "dataframe = pd.DataFrame(columns = [\"reference_bien\", \"description_bien\", \"prix_bien\", \"arrondissement_bien\", \"metros_bien\", \"description_complete_bien\"])\n",
        "\n",
        "while True:\n",
        "    tot_appart = len(browser.find_elements_by_class_name('h1'))\n",
        "    nb_appart = 0\n",
        "\n",
        "    while nb_appart < tot_appart : # Tant qu'il reste des apparts sur la page\n",
        "\n",
        "        try :    \n",
        "            # liste des apparts à  faire\n",
        "            time.sleep(1)\n",
        "            liste_appart = browser.find_elements_by_class_name('h1')\n",
        "            \n",
        "            #Scroll et Click sur l'appart\n",
        "            target = liste_appart[nb_appart]\n",
        "            actions = ActionChains(browser)\n",
        "            actions.move_to_element(target)\n",
        "            actions.perform()\n",
        "            target.click()\n",
        "\n",
        "            #Récupére les infos sur l'appart dans un dico\n",
        "            d = {}\n",
        "            d[\"reference_bien\"] = browser.find_element_by_class_name('item-date').text\n",
        "            d[\"description_bien\"] = browser.find_element_by_class_name('item-title').text\n",
        "            d[\"prix_bien\"] = browser.find_element_by_class_name('item-price').text\n",
        "            d[\"arrondissement_bien\"] = browser.find_element_by_class_name('margin-bottom-8').text\n",
        "            d[\"description_complete_bien\"] = browser.find_element_by_class_name('margin-bottom-30').text\n",
        "\n",
        "            metros = browser.find_elements_by_class_name('item-transports')\n",
        "            d[\"metros_bien\"] = [metros.text for metros in metros]\n",
        "\n",
        "            #Update du dataframe avec le dico\n",
        "            dataframe = dataframe.append(d, ignore_index=True)\n",
        "            nb_appart = nb_appart +1\n",
        "\n",
        "            #Revient sur la page d'avant\n",
        "            browser.back() \n",
        "\n",
        "        except ElementClickInterceptedException: \n",
        "            bouton_close = browser.find_element_by_class_name('ui-button.ui-widget.ui-state-default.ui-corner-all.ui-button-icon-only.ui-dialog-titlebar-close')\n",
        "            bouton_close.click() #close the pop up\n",
        "\n",
        "    if not check_exists_by_class_name(\"next\") : \n",
        "        break #Arrete lorsqu'il est sur la dernière page, après dernier appartement\n",
        "\n",
        "    else :\n",
        "        try : \n",
        "            # Si ce n'est pas la dernière page: Scroll to the end of the page and click on next\n",
        "            target = browser.find_element_by_class_name('cover.cover-bg-9.margin-bottom-30') #elément en fin de page\n",
        "            actions = ActionChains(browser)\n",
        "            actions.move_to_element(target)\n",
        "            actions.perform() #scroll jusqu'à cet élément\n",
        "\n",
        "            # Click on next bouton\n",
        "            bouton_next = browser.find_element_by_class_name('next')\n",
        "            bouton_next.click()\n",
        "        \n",
        "        except ElementClickInterceptedException: \n",
        "            bouton_close = browser.find_element_by_class_name('ui-button.ui-widget.ui-state-default.ui-corner-all.ui-button-icon-only.ui-dialog-titlebar-close')\n",
        "            bouton_close.click() #close the pop up\n",
        "            \n",
        "             # Si ce n'est pas la dernière page: Scroll to the end of the page and click on next\n",
        "            target = browser.find_element_by_class_name('cover.cover-bg-9.margin-bottom-30') #elément en fin de page\n",
        "            actions = ActionChains(browser)\n",
        "            actions.move_to_element(target)\n",
        "            actions.perform() #scroll jusqu'à cet élément\n",
        "\n",
        "            # Click on next bouton\n",
        "            bouton_next = browser.find_element_by_class_name('next')\n",
        "            bouton_next.click()\n",
        "                       \n",
        "\n",
        "# Utilise reference du bien comme référence et supprime les duplicate (garde première occurence) \n",
        "dataframe.set_index('reference_bien', inplace = True)\n",
        "dataframe_test = dataframe[~dataframe.index.duplicated(keep='first')] #Pas de duplicate pour les index\n",
        "# methode qui invert les booleans series ou dataframe\n",
        "# Attention methode qui fonctionne que pour objects du type np.dtype(object) = bool, cad Series ou Dataframe !!!\n",
        "# Sinon il inversera les bits : en faisant -(n+1)\n",
        "\n",
        "# possibilité bis : df3.reset_index().drop_duplicates(subset='index', keep='first').set_index('index')\n",
        "# possibilité ter : df3.groupby(df3.index).first()\n",
        "# with import timeit %timeit la première est la plus rapide\n"
      ],
      "execution_count": 0,
      "outputs": []
    },
    {
      "cell_type": "code",
      "metadata": {
        "id": "J8z9FnMtT4N_",
        "colab_type": "code",
        "outputId": "59aaad97-6ee0-44ae-ab92-a6ed8c687e7c",
        "colab": {}
      },
      "source": [
        "len(dataframe_test)"
      ],
      "execution_count": 0,
      "outputs": [
        {
          "output_type": "execute_result",
          "data": {
            "text/plain": [
              "178"
            ]
          },
          "metadata": {
            "tags": []
          },
          "execution_count": 29
        }
      ]
    },
    {
      "cell_type": "code",
      "metadata": {
        "id": "y51Csi_lT4OB",
        "colab_type": "code",
        "outputId": "465ccf4d-615b-4e8f-d65c-d9cf3028cbf7",
        "colab": {}
      },
      "source": [
        "dataframe_test.head()"
      ],
      "execution_count": 0,
      "outputs": [
        {
          "output_type": "execute_result",
          "data": {
            "text/html": [
              "<div>\n",
              "<style scoped>\n",
              "    .dataframe tbody tr th:only-of-type {\n",
              "        vertical-align: middle;\n",
              "    }\n",
              "\n",
              "    .dataframe tbody tr th {\n",
              "        vertical-align: top;\n",
              "    }\n",
              "\n",
              "    .dataframe thead th {\n",
              "        text-align: right;\n",
              "    }\n",
              "</style>\n",
              "<table border=\"1\" class=\"dataframe\">\n",
              "  <thead>\n",
              "    <tr style=\"text-align: right;\">\n",
              "      <th></th>\n",
              "      <th>description_bien</th>\n",
              "      <th>prix_bien</th>\n",
              "      <th>arrondissement_bien</th>\n",
              "      <th>metros_bien</th>\n",
              "      <th>description_complete_bien</th>\n",
              "    </tr>\n",
              "    <tr>\n",
              "      <th>reference_bien</th>\n",
              "      <th></th>\n",
              "      <th></th>\n",
              "      <th></th>\n",
              "      <th></th>\n",
              "      <th></th>\n",
              "    </tr>\n",
              "  </thead>\n",
              "  <tbody>\n",
              "    <tr>\n",
              "      <th>Réf. : C75/0756 / 21 juin 2019</th>\n",
              "      <td>Location appartement 2 pièces 50 m² Paris 15E\\...</td>\n",
              "      <td>1.500 €</td>\n",
              "      <td>Paris 15e (75015)</td>\n",
              "      <td>[, , ]</td>\n",
              "      <td>Paris 15e (75015)\\n2 pièces 1 chambre 50 m²\\nV...</td>\n",
              "    </tr>\n",
              "    <tr>\n",
              "      <th>Réf. : C54/1828 / 21 juin 2019</th>\n",
              "      <td>Location garage, parking Paris 14E\\n95 €</td>\n",
              "      <td>95 €</td>\n",
              "      <td>Paris 14e (75014)</td>\n",
              "      <td>[Mouton-Duvernet, Alésia, Pernety]</td>\n",
              "      <td>Paris 14e (75014)\\nVoir l'adresse du bien sur ...</td>\n",
              "    </tr>\n",
              "    <tr>\n",
              "      <th>Réf. : C74/0790 / 21 juin 2019</th>\n",
              "      <td>Location meublée studio 17 m² Paris 16E\\n780 €</td>\n",
              "      <td>780 €</td>\n",
              "      <td>Paris 16e (75016)</td>\n",
              "      <td>[Passy, Champ de Mars - Tour Eiffel, Bir-Hakei...</td>\n",
              "      <td>Paris 16e (75016)\\n1 pièce 1 chambre 17 m²\\nVo...</td>\n",
              "    </tr>\n",
              "    <tr>\n",
              "      <th>Réf. : C66/0467 / 21 juin 2019</th>\n",
              "      <td>Location studio 35 m² Paris 15E\\n900 €</td>\n",
              "      <td>900 €</td>\n",
              "      <td>Paris 15e (75015)</td>\n",
              "      <td>[, , ]</td>\n",
              "      <td>Paris 15e (75015)\\n1 pièce 35 m²\\nVoir la comm...</td>\n",
              "    </tr>\n",
              "    <tr>\n",
              "      <th>Réf. : C67/1452 / 21 juin 2019</th>\n",
              "      <td>Location meublée appartement 2 pièces 70 m² Pa...</td>\n",
              "      <td>2.100 €</td>\n",
              "      <td>Paris 11e (75011)</td>\n",
              "      <td>[Voltaire (Léon Blum), Saint-Ambroise, Rue Sai...</td>\n",
              "      <td>Paris 11e (75011)\\n2 pièces 1 chambre 70 m²\\nV...</td>\n",
              "    </tr>\n",
              "  </tbody>\n",
              "</table>\n",
              "</div>"
            ],
            "text/plain": [
              "                                                                 description_bien  \\\n",
              "reference_bien                                                                      \n",
              "Réf. : C75/0756 / 21 juin 2019  Location appartement 2 pièces 50 m² Paris 15E\\...   \n",
              "Réf. : C54/1828 / 21 juin 2019           Location garage, parking Paris 14E\\n95 €   \n",
              "Réf. : C74/0790 / 21 juin 2019     Location meublée studio 17 m² Paris 16E\\n780 €   \n",
              "Réf. : C66/0467 / 21 juin 2019             Location studio 35 m² Paris 15E\\n900 €   \n",
              "Réf. : C67/1452 / 21 juin 2019  Location meublée appartement 2 pièces 70 m² Pa...   \n",
              "\n",
              "                               prix_bien arrondissement_bien  \\\n",
              "reference_bien                                                 \n",
              "Réf. : C75/0756 / 21 juin 2019   1.500 €   Paris 15e (75015)   \n",
              "Réf. : C54/1828 / 21 juin 2019      95 €   Paris 14e (75014)   \n",
              "Réf. : C74/0790 / 21 juin 2019     780 €   Paris 16e (75016)   \n",
              "Réf. : C66/0467 / 21 juin 2019     900 €   Paris 15e (75015)   \n",
              "Réf. : C67/1452 / 21 juin 2019   2.100 €   Paris 11e (75011)   \n",
              "\n",
              "                                                                      metros_bien  \\\n",
              "reference_bien                                                                      \n",
              "Réf. : C75/0756 / 21 juin 2019                                             [, , ]   \n",
              "Réf. : C54/1828 / 21 juin 2019                 [Mouton-Duvernet, Alésia, Pernety]   \n",
              "Réf. : C74/0790 / 21 juin 2019  [Passy, Champ de Mars - Tour Eiffel, Bir-Hakei...   \n",
              "Réf. : C66/0467 / 21 juin 2019                                             [, , ]   \n",
              "Réf. : C67/1452 / 21 juin 2019  [Voltaire (Léon Blum), Saint-Ambroise, Rue Sai...   \n",
              "\n",
              "                                                        description_complete_bien  \n",
              "reference_bien                                                                     \n",
              "Réf. : C75/0756 / 21 juin 2019  Paris 15e (75015)\\n2 pièces 1 chambre 50 m²\\nV...  \n",
              "Réf. : C54/1828 / 21 juin 2019  Paris 14e (75014)\\nVoir l'adresse du bien sur ...  \n",
              "Réf. : C74/0790 / 21 juin 2019  Paris 16e (75016)\\n1 pièce 1 chambre 17 m²\\nVo...  \n",
              "Réf. : C66/0467 / 21 juin 2019  Paris 15e (75015)\\n1 pièce 35 m²\\nVoir la comm...  \n",
              "Réf. : C67/1452 / 21 juin 2019  Paris 11e (75011)\\n2 pièces 1 chambre 70 m²\\nV...  "
            ]
          },
          "metadata": {
            "tags": []
          },
          "execution_count": 30
        }
      ]
    },
    {
      "cell_type": "code",
      "metadata": {
        "id": "Fvo-w1U_T4OC",
        "colab_type": "code",
        "colab": {}
      },
      "source": [
        "#Save the dataframe as csv\n",
        "dataframe_test.to_csv('pap_scraping_200.csv')"
      ],
      "execution_count": 0,
      "outputs": []
    },
    {
      "cell_type": "markdown",
      "metadata": {
        "id": "lTD-URCrT4OE",
        "colab_type": "text"
      },
      "source": [
        "################ INFOS ######################\""
      ]
    },
    {
      "cell_type": "markdown",
      "metadata": {
        "id": "EmrcWlm1T4OE",
        "colab_type": "text"
      },
      "source": [
        "**Pour récupérer les informations text d'une balise, ajouté .text à un objet selenim**"
      ]
    },
    {
      "cell_type": "code",
      "metadata": {
        "id": "kiXE8EUoT4OE",
        "colab_type": "code",
        "colab": {}
      },
      "source": [
        "numero_s = browser.find_element_by_xpath('//*[@id=\"bi-bloc-065153164000000000C0001\"]/div[2]/header/div[1]/div/h2/a')\n",
        "numero_s #objet Selenium"
      ],
      "execution_count": 0,
      "outputs": []
    },
    {
      "cell_type": "code",
      "metadata": {
        "scrolled": true,
        "id": "ekjN7MCcT4OG",
        "colab_type": "code",
        "colab": {}
      },
      "source": [
        "numero.text # récupère sa valeur"
      ],
      "execution_count": 0,
      "outputs": []
    },
    {
      "cell_type": "markdown",
      "metadata": {
        "id": "swevgjh_T4OH",
        "colab_type": "text"
      },
      "source": [
        "**Pour récupérer leurs valeurs, deux manières :** <br>\n",
        "La débutante : "
      ]
    },
    {
      "cell_type": "code",
      "metadata": {
        "scrolled": true,
        "id": "VGicLQI_T4OL",
        "colab_type": "code",
        "colab": {}
      },
      "source": [
        "liste_valeur = []\n",
        "for numero in numeros:\n",
        "    liste_valeur.append(numero.text)\n",
        "liste_valeur"
      ],
      "execution_count": 0,
      "outputs": []
    },
    {
      "cell_type": "markdown",
      "metadata": {
        "id": "ssEA84oNT4OM",
        "colab_type": "text"
      },
      "source": [
        "la plus directe : "
      ]
    },
    {
      "cell_type": "code",
      "metadata": {
        "scrolled": true,
        "id": "-5GUtdvuT4ON",
        "colab_type": "code",
        "colab": {}
      },
      "source": [
        "liste_valeur = [numero.text for numero in numeros]\n",
        "liste_valeur"
      ],
      "execution_count": 0,
      "outputs": []
    }
  ]
}